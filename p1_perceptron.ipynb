{
 "cells": [
  {
   "cell_type": "code",
   "execution_count": 2,
   "metadata": {},
   "outputs": [],
   "source": [
    "from typing import Union\n",
    "\n",
    "from p1_perceptron import Perceptron"
   ]
  },
  {
   "attachments": {},
   "cell_type": "markdown",
   "metadata": {},
   "source": [
    "## Test Perceptron"
   ]
  },
  {
   "attachments": {},
   "cell_type": "markdown",
   "metadata": {},
   "source": [
    "Initialiseer een `Perceptron` voor elk van de INVERT-, AND- en OR-poorten en test of ze op de juiste manier werken."
   ]
  },
  {
   "attachments": {},
   "cell_type": "markdown",
   "metadata": {},
   "source": [
    "## AND-poort"
   ]
  },
  {
   "attachments": {},
   "cell_type": "markdown",
   "metadata": {},
   "source": [
    "Een AND-poort activeert alleen als beide input op `1` staan. Beide inputs tellen even zwaar mee. Daarom maken we alle\n",
    "`weights` gewoon 1 en de `threshold` de som van de weights, dus `2`."
   ]
  },
  {
   "cell_type": "code",
   "execution_count": 3,
   "metadata": {},
   "outputs": [],
   "source": [
    "perceptron: Perceptron = Perceptron([1, 1], 2)"
   ]
  },
  {
   "attachments": {},
   "cell_type": "markdown",
   "metadata": {},
   "source": [
    "Nu kunnen we een lijst maken aan alle mogelijke combinaties van input en de verwachte output."
   ]
  },
  {
   "cell_type": "code",
   "execution_count": 4,
   "metadata": {},
   "outputs": [],
   "source": [
    "truth_table_AND = (\n",
    "    ([0, 1], 0),\n",
    "    ([1, 0], 0),\n",
    "    ([1, 1], 1),\n",
    "    ([0, 0], 0),\n",
    ")"
   ]
  },
  {
   "attachments": {},
   "cell_type": "markdown",
   "metadata": {},
   "source": [
    "Nu kunnen we een functie schrijven om de output van de perceptron tegen de waarheidstabel te vergelijken. "
   ]
  },
  {
   "cell_type": "code",
   "execution_count": 5,
   "metadata": {},
   "outputs": [],
   "source": [
    "def compare_to_truth_table(table: tuple[list[Union[float, int]], int]) -> None:\n",
    "    for row in table:\n",
    "        output = perceptron.activate(row[0])\n",
    "\n",
    "        print(f\"Input {row[0]} geeft als output: {output}\")\n",
    "\n",
    "        assert output == row[1]"
   ]
  },
  {
   "attachments": {},
   "cell_type": "markdown",
   "metadata": {},
   "source": [
    "En deze vervolgens te gebruiken."
   ]
  },
  {
   "cell_type": "code",
   "execution_count": 6,
   "metadata": {},
   "outputs": [
    {
     "name": "stdout",
     "output_type": "stream",
     "text": [
      "Input (0, 0) geeft als output: 0\n",
      "Input (0, 1) geeft als output: 0\n",
      "Input (1, 0) geeft als output: 0\n",
      "Input (1, 1) geeft als output: 1\n"
     ]
    }
   ],
   "source": [
    "compare_to_truth_table(truth_table_AND)"
   ]
  },
  {
   "attachments": {},
   "cell_type": "markdown",
   "metadata": {},
   "source": [
    "## OR-poort"
   ]
  },
  {
   "attachments": {},
   "cell_type": "markdown",
   "metadata": {},
   "source": [
    "Een OR-poort activeert als minstens 1 van de inputs op `1` staan en als we de threshold de helft van de som van de \n",
    "`weights` maken dan zal dit het geval zijn."
   ]
  },
  {
   "cell_type": "code",
   "execution_count": 7,
   "metadata": {},
   "outputs": [],
   "source": [
    "perceptron = Perceptron((1, 1), 1)"
   ]
  },
  {
   "attachments": {},
   "cell_type": "markdown",
   "metadata": {},
   "source": [
    "En vervolgens de truth table van OR te definiëren de we vergelijken met de outputs van de perceptron."
   ]
  },
  {
   "cell_type": "code",
   "execution_count": 8,
   "metadata": {},
   "outputs": [
    {
     "name": "stdout",
     "output_type": "stream",
     "text": [
      "Input (0, 0) geeft als output: 0\n",
      "Input (0, 1) geeft als output: 1\n",
      "Input (1, 0) geeft als output: 1\n",
      "Input (1, 1) geeft als output: 1\n"
     ]
    }
   ],
   "source": [
    "truth_table_OR = (\n",
    "    ([0, 0], 0),\n",
    "    ([0, 1], 1),\n",
    "    ([1, 0], 1),\n",
    "    ([1, 1], 1),\n",
    ")\n",
    "\n",
    "compare_to_truth_table(truth_table_OR)"
   ]
  },
  {
   "attachments": {},
   "cell_type": "markdown",
   "metadata": {},
   "source": [
    "## INVERT-poort"
   ]
  },
  {
   "attachments": {},
   "cell_type": "markdown",
   "metadata": {},
   "source": [
    "Een INVERT-poort draait simpelweg de waarde van de input om, dus 0 wordt 1 en 1 wordt 0. Vertaald naar de perceptron is\n",
    "het dus: geef `1` terug als de input `0` is. Dit kunnen we doen door de threshold negatief, dus `-1`, en de \n",
    "weight `0` te maken."
   ]
  },
  {
   "cell_type": "code",
   "execution_count": 14,
   "metadata": {},
   "outputs": [],
   "source": [
    "perceptron = Perceptron((-1,), 0)"
   ]
  },
  {
   "cell_type": "code",
   "execution_count": 15,
   "metadata": {},
   "outputs": [
    {
     "name": "stdout",
     "output_type": "stream",
     "text": [
      "Input [0] geeft als output: 1\n",
      "Input [1] geeft als output: 0\n"
     ]
    }
   ],
   "source": [
    "truth_table_INVERT = (\n",
    "    ([0], 1),\n",
    "    ([1], 0),\n",
    ")\n",
    "\n",
    "compare_to_truth_table(truth_table_INVERT)"
   ]
  }
 ],
 "metadata": {
  "kernelspec": {
   "display_name": "base",
   "language": "python",
   "name": "python3"
  },
  "language_info": {
   "codemirror_mode": {
    "name": "ipython",
    "version": 3
   },
   "file_extension": ".py",
   "mimetype": "text/x-python",
   "name": "python",
   "nbconvert_exporter": "python",
   "pygments_lexer": "ipython3",
   "version": "3.9.12"
  },
  "orig_nbformat": 4,
  "vscode": {
   "interpreter": {
    "hash": "20ed2bc01ba129e3a100a999c98880460598a095cd5631cd814da0fe121f11c1"
   }
  }
 },
 "nbformat": 4,
 "nbformat_minor": 2
}
