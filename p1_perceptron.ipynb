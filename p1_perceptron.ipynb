{
 "cells": [
  {
   "cell_type": "code",
   "execution_count": 20,
   "metadata": {},
   "outputs": [],
   "source": [
    "from typing import Union\n",
    "\n",
    "from p1_perceptron import Perceptron"
   ]
  },
  {
   "attachments": {},
   "cell_type": "markdown",
   "metadata": {},
   "source": [
    "## Test Perceptron"
   ]
  },
  {
   "attachments": {},
   "cell_type": "markdown",
   "metadata": {},
   "source": [
    "Initialiseer een `Perceptron` voor elk van de INVERT-, AND- en OR-poorten en test of ze op de juiste manier werken."
   ]
  },
  {
   "attachments": {},
   "cell_type": "markdown",
   "metadata": {},
   "source": [
    "## AND-poort"
   ]
  },
  {
   "attachments": {},
   "cell_type": "markdown",
   "metadata": {},
   "source": [
    "Een AND-poort activeert alleen als beide input op `1` staan. Beide inputs tellen even zwaar mee. Daarom maken we alle\n",
    "`weights` gewoon 1 en de `threshold` de som van de weights, dus `2`."
   ]
  },
  {
   "cell_type": "code",
   "execution_count": 17,
   "metadata": {},
   "outputs": [],
   "source": [
    "perceptron: Perceptron = Perceptron([1, 1], 2)"
   ]
  },
  {
   "attachments": {},
   "cell_type": "markdown",
   "metadata": {},
   "source": [
    "Nu kunnen we een lijst maken aan alle mogelijke combinaties van input en de verwachte output."
   ]
  },
  {
   "cell_type": "code",
   "execution_count": 18,
   "metadata": {},
   "outputs": [],
   "source": [
    "truth_table = (\n",
    "    ((0, 0), 0),\n",
    "    ((0, 1), 0),\n",
    "    ((1, 0), 0),\n",
    "    ((1, 1), 1),\n",
    ")"
   ]
  },
  {
   "attachments": {},
   "cell_type": "markdown",
   "metadata": {},
   "source": [
    "Nu kunnen we een functie schrijven om de output van de perceptron tegen de waarheidstabel te vergelijken. "
   ]
  },
  {
   "cell_type": "code",
   "execution_count": 19,
   "metadata": {},
   "outputs": [
    {
     "ename": "TypeError",
     "evalue": "unsupported operand type(s) for |: 'type' and 'type'",
     "output_type": "error",
     "traceback": [
      "\u001b[1;31m---------------------------------------------------------------------------\u001b[0m",
      "\u001b[1;31mTypeError\u001b[0m                                 Traceback (most recent call last)",
      "\u001b[1;32mc:\\Users\\jim12\\school\\jaar-2\\blok-c\\ml\\summatief\\p1_perceptron.ipynb Cell 10\u001b[0m in \u001b[0;36m<cell line: 1>\u001b[1;34m()\u001b[0m\n\u001b[1;32m----> <a href='vscode-notebook-cell:/c%3A/Users/jim12/school/jaar-2/blok-c/ml/summatief/p1_perceptron.ipynb#X21sZmlsZQ%3D%3D?line=0'>1</a>\u001b[0m \u001b[39mdef\u001b[39;00m \u001b[39mcompare_to_truth_table\u001b[39m(table: \u001b[39mtuple\u001b[39m[\u001b[39mtuple\u001b[39m[\u001b[39mfloat\u001b[39;49m \u001b[39m|\u001b[39;49m \u001b[39mint\u001b[39;49m], \u001b[39mint\u001b[39m]) \u001b[39m-\u001b[39m\u001b[39m>\u001b[39m \u001b[39mNone\u001b[39;00m:\n\u001b[0;32m      <a href='vscode-notebook-cell:/c%3A/Users/jim12/school/jaar-2/blok-c/ml/summatief/p1_perceptron.ipynb#X21sZmlsZQ%3D%3D?line=1'>2</a>\u001b[0m     \u001b[39mfor\u001b[39;00m row \u001b[39min\u001b[39;00m table:\n\u001b[0;32m      <a href='vscode-notebook-cell:/c%3A/Users/jim12/school/jaar-2/blok-c/ml/summatief/p1_perceptron.ipynb#X21sZmlsZQ%3D%3D?line=2'>3</a>\u001b[0m         output \u001b[39m=\u001b[39m perceptron\u001b[39m.\u001b[39mactivate(row[\u001b[39m0\u001b[39m])\n",
      "\u001b[1;31mTypeError\u001b[0m: unsupported operand type(s) for |: 'type' and 'type'"
     ]
    }
   ],
   "source": [
    "def compare_to_truth_table(table: tuple[tuple[Union[float, int]], int]) -> None:\n",
    "    for row in table:\n",
    "        output = perceptron.activate(row[0])\n",
    "\n",
    "        print(f\"Input {row[0]} geeft als output: {output}\")\n",
    "\n",
    "        assert output == row[1]"
   ]
  },
  {
   "attachments": {},
   "cell_type": "markdown",
   "metadata": {},
   "source": [
    "En deze vervolgens te gebruiken."
   ]
  },
  {
   "cell_type": "code",
   "execution_count": null,
   "metadata": {},
   "outputs": [
    {
     "ename": "NameError",
     "evalue": "name 'compare_to_truth_table' is not defined",
     "output_type": "error",
     "traceback": [
      "\u001b[1;31m---------------------------------------------------------------------------\u001b[0m",
      "\u001b[1;31mNameError\u001b[0m                                 Traceback (most recent call last)",
      "\u001b[1;32mc:\\Users\\jim12\\school\\jaar-2\\blok-c\\ml\\summatief\\p1_perceptron.ipynb Cell 12\u001b[0m in \u001b[0;36m<cell line: 1>\u001b[1;34m()\u001b[0m\n\u001b[1;32m----> <a href='vscode-notebook-cell:/c%3A/Users/jim12/school/jaar-2/blok-c/ml/summatief/p1_perceptron.ipynb#X35sZmlsZQ%3D%3D?line=0'>1</a>\u001b[0m compare_to_truth_table(truth_table)\n",
      "\u001b[1;31mNameError\u001b[0m: name 'compare_to_truth_table' is not defined"
     ]
    }
   ],
   "source": [
    "compare_to_truth_table(truth_table)"
   ]
  },
  {
   "attachments": {},
   "cell_type": "markdown",
   "metadata": {},
   "source": [
    "## OR-poort"
   ]
  },
  {
   "attachments": {},
   "cell_type": "markdown",
   "metadata": {},
   "source": [
    "Een OR-poort activeert als minstens 1 van de inputs op `1` staan. We kunnen ook nu weer alle `weights` gewoon op `1`\n",
    "zetten en de `threshold` 2 maken."
   ]
  },
  {
   "cell_type": "code",
   "execution_count": null,
   "metadata": {},
   "outputs": [],
   "source": [
    "perceptron: Perceptron = Perceptron([1, 1], 2)"
   ]
  },
  {
   "attachments": {},
   "cell_type": "markdown",
   "metadata": {},
   "source": [
    "En vervolgens de truth table van OR te definiëren."
   ]
  },
  {
   "cell_type": "code",
   "execution_count": null,
   "metadata": {},
   "outputs": [],
   "source": [
    "truth_table = (\n",
    "    ((0, 0), 0),\n",
    "    ((0, 1), 1),\n",
    "    ((1, 0), 1),\n",
    "    ((1, 1), 1),\n",
    ")"
   ]
  }
 ],
 "metadata": {
  "kernelspec": {
   "display_name": "base",
   "language": "python",
   "name": "python3"
  },
  "language_info": {
   "codemirror_mode": {
    "name": "ipython",
    "version": 3
   },
   "file_extension": ".py",
   "mimetype": "text/x-python",
   "name": "python",
   "nbconvert_exporter": "python",
   "pygments_lexer": "ipython3",
   "version": "3.9.12"
  },
  "orig_nbformat": 4,
  "vscode": {
   "interpreter": {
    "hash": "20ed2bc01ba129e3a100a999c98880460598a095cd5631cd814da0fe121f11c1"
   }
  }
 },
 "nbformat": 4,
 "nbformat_minor": 2
}
