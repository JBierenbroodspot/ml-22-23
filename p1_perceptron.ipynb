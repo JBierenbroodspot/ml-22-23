{
 "cells": [
  {
   "cell_type": "code",
   "execution_count": 22,
   "metadata": {},
   "outputs": [],
   "source": [
    "from typing import Union\n",
    "\n",
    "from p1_perceptron import Perceptron, PerceptronLayer, PerceptronNetwork"
   ]
  },
  {
   "attachments": {},
   "cell_type": "markdown",
   "metadata": {},
   "source": [
    "## Test Perceptron"
   ]
  },
  {
   "attachments": {},
   "cell_type": "markdown",
   "metadata": {},
   "source": [
    "Initialiseer een `Perceptron` voor elk van de INVERT-, AND- en OR-poorten en test of ze op de juiste manier werken."
   ]
  },
  {
   "attachments": {},
   "cell_type": "markdown",
   "metadata": {},
   "source": [
    "### AND-poort"
   ]
  },
  {
   "attachments": {},
   "cell_type": "markdown",
   "metadata": {},
   "source": [
    "Een AND-poort activeert alleen als beide input op `1` staan. Beide inputs tellen even zwaar mee. Daarom maken we alle\n",
    "`weights` gewoon 1 en de `threshold` de som van de weights, dus `2`."
   ]
  },
  {
   "cell_type": "code",
   "execution_count": 23,
   "metadata": {},
   "outputs": [],
   "source": [
    "AND: Perceptron = Perceptron([1, 1], 2)"
   ]
  },
  {
   "attachments": {},
   "cell_type": "markdown",
   "metadata": {},
   "source": [
    "Nu kunnen we een lijst maken aan alle mogelijke combinaties van input en de verwachte output."
   ]
  },
  {
   "cell_type": "code",
   "execution_count": 24,
   "metadata": {},
   "outputs": [],
   "source": [
    "truth_table_AND = (\n",
    "    ([0, 1], 0),\n",
    "    ([1, 0], 0),\n",
    "    ([1, 1], 1),\n",
    "    ([0, 0], 0),\n",
    ")"
   ]
  },
  {
   "attachments": {},
   "cell_type": "markdown",
   "metadata": {},
   "source": [
    "Nu kunnen we een functie schrijven om de output van de perceptron tegen de waarheidstabel te vergelijken. "
   ]
  },
  {
   "cell_type": "code",
   "execution_count": 25,
   "metadata": {},
   "outputs": [],
   "source": [
    "def compare_to_truth_table(table: tuple[list[Union[float, int]], list[int]], \n",
    "                           obj: Union[Perceptron, PerceptronNetwork]\n",
    "                           ) -> None:\n",
    "    for row in table:\n",
    "        output = obj.activate(row[0]) if isinstance(obj, Perceptron) else obj.predict(row[0])\n",
    "        print(f\"Input {row[0]} geeft als output: {output}\")\n",
    "\n",
    "        assert output == row[1]"
   ]
  },
  {
   "attachments": {},
   "cell_type": "markdown",
   "metadata": {},
   "source": [
    "En deze vervolgens te gebruiken."
   ]
  },
  {
   "cell_type": "code",
   "execution_count": 26,
   "metadata": {},
   "outputs": [
    {
     "name": "stdout",
     "output_type": "stream",
     "text": [
      "Input [0, 1] geeft als output: 0\n",
      "Input [1, 0] geeft als output: 0\n",
      "Input [1, 1] geeft als output: 1\n",
      "Input [0, 0] geeft als output: 0\n"
     ]
    }
   ],
   "source": [
    "compare_to_truth_table(truth_table_AND, AND)"
   ]
  },
  {
   "attachments": {},
   "cell_type": "markdown",
   "metadata": {},
   "source": [
    "### OR-poort"
   ]
  },
  {
   "attachments": {},
   "cell_type": "markdown",
   "metadata": {},
   "source": [
    "Een OR-poort activeert als minstens 1 van de inputs op `1` staan en als we de threshold de helft van de som van de \n",
    "`weights` maken dan zal dit het geval zijn."
   ]
  },
  {
   "cell_type": "code",
   "execution_count": 27,
   "metadata": {},
   "outputs": [],
   "source": [
    "OR = Perceptron((1, 1), 1)"
   ]
  },
  {
   "attachments": {},
   "cell_type": "markdown",
   "metadata": {},
   "source": [
    "En vervolgens de truth table van OR te definiëren de we vergelijken met de outputs van de perceptron."
   ]
  },
  {
   "cell_type": "code",
   "execution_count": 28,
   "metadata": {},
   "outputs": [
    {
     "name": "stdout",
     "output_type": "stream",
     "text": [
      "Input [0, 0] geeft als output: 0\n",
      "Input [0, 1] geeft als output: 1\n",
      "Input [1, 0] geeft als output: 1\n",
      "Input [1, 1] geeft als output: 1\n"
     ]
    }
   ],
   "source": [
    "truth_table_OR = (\n",
    "    ([0, 0], 0),\n",
    "    ([0, 1], 1),\n",
    "    ([1, 0], 1),\n",
    "    ([1, 1], 1),\n",
    ")\n",
    "\n",
    "compare_to_truth_table(truth_table_OR, OR)"
   ]
  },
  {
   "attachments": {},
   "cell_type": "markdown",
   "metadata": {},
   "source": [
    "### INVERT-poort"
   ]
  },
  {
   "attachments": {},
   "cell_type": "markdown",
   "metadata": {},
   "source": [
    "Een INVERT-poort draait simpelweg de waarde van de input om, dus 0 wordt 1 en 1 wordt 0. Vertaald naar de perceptron is\n",
    "het dus: geef `1` terug als de input `0` is. Dit kunnen we doen door de threshold negatief, dus `-1`, en de \n",
    "weight `0` te maken."
   ]
  },
  {
   "cell_type": "code",
   "execution_count": 29,
   "metadata": {},
   "outputs": [
    {
     "name": "stdout",
     "output_type": "stream",
     "text": [
      "Input [0] geeft als output: 1\n",
      "Input [1] geeft als output: 0\n"
     ]
    }
   ],
   "source": [
    "truth_table_INVERT = (\n",
    "    ([0], 1),\n",
    "    ([1], 0),\n",
    ")\n",
    "\n",
    "INVERT = Perceptron((-1,), 0)\n",
    "compare_to_truth_table(truth_table_INVERT, INVERT)"
   ]
  },
  {
   "attachments": {},
   "cell_type": "markdown",
   "metadata": {},
   "source": [
    "### NOR-poort"
   ]
  },
  {
   "attachments": {},
   "cell_type": "markdown",
   "metadata": {},
   "source": [
    "Een NOR-gate activeert wanneer alle inputwaardes 0 zijn en in dit geval zijn er 3 inputwaardes. Als we alle gewichten op\n",
    "`-1` en de threshold op `0` te zetten zal er bij 3 nullen een 1 uitkomen want: $-1*0+-1*0+-1*0+0 = 0$. "
   ]
  },
  {
   "cell_type": "code",
   "execution_count": 30,
   "metadata": {},
   "outputs": [
    {
     "name": "stdout",
     "output_type": "stream",
     "text": [
      "Input [0, 0, 0] geeft als output: 1\n",
      "Input [0, 0, 1] geeft als output: 0\n",
      "Input [0, 1, 0] geeft als output: 0\n",
      "Input [0, 1, 1] geeft als output: 0\n",
      "Input [1, 0, 0] geeft als output: 0\n",
      "Input [1, 0, 1] geeft als output: 0\n",
      "Input [1, 1, 1] geeft als output: 0\n"
     ]
    }
   ],
   "source": [
    "truth_table_NOR = (\n",
    "    ([0, 0, 0], 1),\n",
    "    ([0, 0, 1], 0),\n",
    "    ([0, 1, 0], 0),\n",
    "    ([0, 1, 1], 0),\n",
    "    ([1, 0, 0], 0),\n",
    "    ([1, 0, 1], 0),\n",
    "    ([1, 1, 1], 0),\n",
    ")\n",
    "\n",
    "NOR = Perceptron([-1, -1, -1], 0)\n",
    "compare_to_truth_table(truth_table_NOR, NOR)"
   ]
  },
  {
   "attachments": {},
   "cell_type": "markdown",
   "metadata": {},
   "source": [
    "### Uitgebreide beslissysteem"
   ]
  },
  {
   "attachments": {},
   "cell_type": "markdown",
   "metadata": {},
   "source": [
    "Voor een uitgebreide beslissysteem kiezen we 4 willekeurige weights: `[0.1, 0.22, 0.5, 2.1]`. We kiezen ook een \n",
    "willekeurige threshold: `0.8`."
   ]
  },
  {
   "cell_type": "code",
   "execution_count": 31,
   "metadata": {},
   "outputs": [],
   "source": [
    "perceptron = Perceptron([0.1, 0.22, 0.5, 2.1], 0.8)"
   ]
  },
  {
   "attachments": {},
   "cell_type": "markdown",
   "metadata": {},
   "source": [
    "Om deze perceptron te testen hebben we een aantal willekeurige inputs en hun verwachte outputs."
   ]
  },
  {
   "cell_type": "code",
   "execution_count": 32,
   "metadata": {},
   "outputs": [
    {
     "name": "stdout",
     "output_type": "stream",
     "text": [
      "Input [1, 1, 1, 1] geeft als output: 1\n",
      "Input [0, 0, 0, 0] geeft als output: 0\n",
      "Input [5, 0.1, 2, -1] geeft als output: 0\n",
      "Input [5, 5, 5, 5] geeft als output: 1\n",
      "Input [8, 0, 0, 0] geeft als output: 1\n"
     ]
    }
   ],
   "source": [
    "truth_table_EXPANDED = (\n",
    "    ([1, 1, 1, 1], 1),\n",
    "    ([0, 0, 0, 0], 0),\n",
    "    ([5, 0.1, 2, -1], 0),\n",
    "    ([5, 5, 5, 5], 1),\n",
    "    ([8, 0, 0, 0], 1),\n",
    ")\n",
    "\n",
    "compare_to_truth_table(truth_table_EXPANDED, perceptron)"
   ]
  },
  {
   "attachments": {},
   "cell_type": "markdown",
   "metadata": {},
   "source": [
    "## Test PerceptronNetwork"
   ]
  },
  {
   "attachments": {},
   "cell_type": "markdown",
   "metadata": {},
   "source": [
    "### XOR-poort"
   ]
  },
  {
   "attachments": {},
   "cell_type": "markdown",
   "metadata": {},
   "source": [
    "Een XOR-poort heeft 2 inputs en zal `1` teruggeven als één van de 2 inputwaardes `1` is maar niet beide. Dit kunnen we \n",
    "doen door eerst een AND-poort en een NOR-poort te checken of de inputs beide positief of negatief zijn. Vervolgens\n",
    "gebruiken we een OR-poort om de twee outputs naar 1 output te veranderen. Dit betekent dat als beide inputs anders zijn\n",
    "dat er een `0` uit komt en als beide inputs hetzelfde zijn dat er een 1 uit komt. Dit is precies het omgekeerde van wat \n",
    "we willen dus kunnen we dit omdraaien met een INVERT-poort.\n",
    "\n",
    "Ik heb zelf geprobeerd te beredeneren welke gates ik moest gebruiken i.p.v. het opzoeken van een schema op het internet."
   ]
  },
  {
   "cell_type": "code",
   "execution_count": 33,
   "metadata": {},
   "outputs": [
    {
     "name": "stdout",
     "output_type": "stream",
     "text": [
      "Input [0, 0] geeft als output: [0]\n",
      "Input [0, 1] geeft als output: [1]\n",
      "Input [1, 0] geeft als output: [1]\n",
      "Input [1, 1] geeft als output: [0]\n"
     ]
    }
   ],
   "source": [
    "truth_table_XOR = (\n",
    "    ([0, 0], 0),\n",
    "    ([0, 1], 1),\n",
    "    ([1, 0], 1),\n",
    "    ([1, 1], 0),\n",
    ")\n",
    "\n",
    "network = PerceptronNetwork([\n",
    "    PerceptronLayer([AND, NOR]),\n",
    "    PerceptronLayer([OR]),\n",
    "    PerceptronLayer([INVERT]),\n",
    "])\n",
    "\n",
    "for row in truth_table_XOR:\n",
    "    output = network.predict(row[0])\n",
    "\n",
    "    print(f\"Input {row[0]} geeft als output: {output}\")\n",
    "\n",
    "    assert output == [row[1]]"
   ]
  },
  {
   "attachments": {},
   "cell_type": "markdown",
   "metadata": {},
   "source": [
    "### Half-adder"
   ]
  },
  {
   "attachments": {},
   "cell_type": "markdown",
   "metadata": {},
   "source": [
    "De half-adder neemt twee inputs en geeft 2 outputs terug, de som en rest. In in binaire getallen met 2 inputs is dat \n",
    "nogal simpel want $1 + 1 = 11$. Nu kan je dat simpelweg doen met een AND- en een OR-poort."
   ]
  },
  {
   "cell_type": "code",
   "execution_count": 36,
   "metadata": {},
   "outputs": [
    {
     "name": "stdout",
     "output_type": "stream",
     "text": [
      "Input [0, 0] geeft als output: [0, 0]\n",
      "Input [0, 1] geeft als output: [0, 1]\n",
      "Input [1, 0] geeft als output: [0, 1]\n",
      "Input [1, 1] geeft als output: [1, 1]\n"
     ]
    }
   ],
   "source": [
    "truth_table_half_adder = (\n",
    "    ([0, 0], [0, 0]),\n",
    "    ([0, 1], [0, 1]),\n",
    "    ([1, 0], [0, 1]),\n",
    "    ([1, 1], [1, 1]),\n",
    ")\n",
    "\n",
    "half_adder_mixed = PerceptronNetwork([\n",
    "    PerceptronLayer([AND, OR]),\n",
    "])\n",
    "\n",
    "compare_to_truth_table(truth_table_half_adder, half_adder_mixed)"
   ]
  },
  {
   "attachments": {},
   "cell_type": "markdown",
   "metadata": {},
   "source": [
    "De schema die we gekregen hebben is een half adder die bestaat uit enkel NAND-poorten. Ik vermoed dat deze gewenst\n",
    "gezien te worden omdat er gesproken wordt van _de_ half adder en niet _een_ half adder, maar ik vond het zelf \n",
    "waardevoller om een netwerk met 1 laag te maken omdat dat nog niet getest is."
   ]
  }
 ],
 "metadata": {
  "kernelspec": {
   "display_name": "base",
   "language": "python",
   "name": "python3"
  },
  "language_info": {
   "codemirror_mode": {
    "name": "ipython",
    "version": 3
   },
   "file_extension": ".py",
   "mimetype": "text/x-python",
   "name": "python",
   "nbconvert_exporter": "python",
   "pygments_lexer": "ipython3",
   "version": "3.9.12"
  },
  "orig_nbformat": 4,
  "vscode": {
   "interpreter": {
    "hash": "20ed2bc01ba129e3a100a999c98880460598a095cd5631cd814da0fe121f11c1"
   }
  }
 },
 "nbformat": 4,
 "nbformat_minor": 2
}
