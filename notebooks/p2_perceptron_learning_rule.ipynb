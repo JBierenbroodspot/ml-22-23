{
 "cells": [
  {
   "attachments": {},
   "cell_type": "markdown",
   "metadata": {},
   "source": [
    "# P2 Perceptron Learning Rule"
   ]
  },
  {
   "attachments": {},
   "cell_type": "markdown",
   "metadata": {},
   "source": [
    "Om de perceptron learning rule te implementeren moeten we de volgende begrippen implementeren:\n",
    "\n",
    "- `target`, `input`, `weights` en `bias`.\n",
    "- `output = activation(weighted_sum)`.\n",
    "- `error = target - output`.\n",
    "- `eta = 0.1`, wordt ook wel de learning rate genoemd en is een hyperparameter.\n",
    "- `delta_weight = eta * error * input`.\n",
    "- `delta_bias = eta * error`.\n",
    "- `weight_derivative = weight + delta_weight`.\n",
    "- `bias_derivative = bias + delta_bias`.\n",
    "- `mean_squared_error = sum(error**2) / n`."
   ]
  },
  {
   "cell_type": "markdown",
   "metadata": {},
   "source": []
  }
 ],
 "metadata": {
  "language_info": {
   "name": "python"
  },
  "orig_nbformat": 4
 },
 "nbformat": 4,
 "nbformat_minor": 2
}
