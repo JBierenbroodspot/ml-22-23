{
 "cells": [
  {
   "cell_type": "code",
   "execution_count": 64,
   "metadata": {},
   "outputs": [],
   "source": [
    "from typing import List, Tuple, Iterable\n",
    "import random\n",
    "\n",
    "from matplotlib import pyplot as plt\n",
    "from sklearn.datasets import load_iris"
   ]
  },
  {
   "attachments": {},
   "cell_type": "markdown",
   "metadata": {},
   "source": [
    "# P2: Perceptron Learning Rule"
   ]
  },
  {
   "attachments": {},
   "cell_type": "markdown",
   "metadata": {},
   "source": [
    "Om de perceptron learning rule te implementeren moeten we de volgende begrippen implementeren:\n",
    "\n",
    "- `target`, `input`, `weights` en `bias`.\n",
    "- `output = activation(weighted_sum)`.\n",
    "- `error = target - output`.\n",
    "- `eta = 0.1`, wordt ook wel de learning rate genoemd en is een hyperparameter.\n",
    "- `delta_weight = eta * error * input`.\n",
    "- `delta_bias = eta * error`.\n",
    "- `weight_derivative = weight + delta_weight`.\n",
    "- `bias_derivative = bias + delta_bias`.\n",
    "- `mean_squared_error = sum(error**2) / n`.\n",
    "\n",
    "Deze begrippen kunnen we samenvoegen tot de `update()` en `loss()` functies die in \n",
    "`p2_perceptron_learning_rule.Perceptron` geïmplementeerd zijn."
   ]
  },
  {
   "cell_type": "code",
   "execution_count": 65,
   "metadata": {},
   "outputs": [],
   "source": [
    "from p1_perceptron import step_activation\n",
    "from p2_perceptron_learning_rule import Perceptron"
   ]
  },
  {
   "attachments": {},
   "cell_type": "markdown",
   "metadata": {},
   "source": [
    "## AND-poort"
   ]
  },
  {
   "attachments": {},
   "cell_type": "markdown",
   "metadata": {},
   "source": [
    "In `p1_perceptron.ipynb` is de truth table voor een AND-poort al gedefinieerd en gaat als volgt:"
   ]
  },
  {
   "cell_type": "code",
   "execution_count": 66,
   "metadata": {},
   "outputs": [],
   "source": [
    "truth_table_AND = (\n",
    "    ([0, 1], 0),\n",
    "    ([1, 0], 0),\n",
    "    ([1, 1], 1),\n",
    "    ([0, 0], 0),\n",
    ")"
   ]
  },
  {
   "attachments": {},
   "cell_type": "markdown",
   "metadata": {},
   "source": [
    "De geïmplementeerde functionaliteit werkt echter veel met de input en verwachte waardes in aparte lists."
   ]
  },
  {
   "cell_type": "code",
   "execution_count": 67,
   "metadata": {},
   "outputs": [
    {
     "name": "stdout",
     "output_type": "stream",
     "text": [
      "Train data:          ([0, 1], [1, 0], [1, 1], [0, 0])\n",
      "Verwachte waardes:   (0, 0, 1, 0)\n"
     ]
    }
   ],
   "source": [
    "_AND_zipped = tuple(zip(*truth_table_AND))\n",
    "AND_inputs = _AND_zipped[0]\n",
    "AND_expected = _AND_zipped[1]\n",
    "\n",
    "print(f\"{'Train data:':20} {AND_inputs}\\n{'Verwachte waardes:':20} {AND_expected}\")"
   ]
  },
  {
   "attachments": {},
   "cell_type": "markdown",
   "metadata": {},
   "source": [
    "We kunnen ook de functie voor het vergelijken van de output tegen de truth table lenen."
   ]
  },
  {
   "cell_type": "code",
   "execution_count": 68,
   "metadata": {},
   "outputs": [],
   "source": [
    "def compare_to_truth_table(inputs: Tuple[List[float]], obj: Perceptron) -> None:\n",
    "    outputs = []\n",
    "\n",
    "    for row in inputs:\n",
    "        output = obj.activate(row)\n",
    "        print(f\"Input {row} geeft als output: {output}\")\n",
    "        outputs.append(output)\n",
    "\n",
    "    return outputs"
   ]
  },
  {
   "attachments": {},
   "cell_type": "markdown",
   "metadata": {},
   "source": [
    "Als laatste stap kunnen we de `learning_rate` van tevoren vastzetten aangezien deze voor nu altijd `0.1` zal zijn."
   ]
  },
  {
   "cell_type": "code",
   "execution_count": 69,
   "metadata": {},
   "outputs": [],
   "source": [
    "learning_rate = 0.1"
   ]
  },
  {
   "attachments": {},
   "cell_type": "markdown",
   "metadata": {},
   "source": [
    "Nu kunnen we alles hierboven gebruiken om een perceptron te trainen. Volgens \n",
    "[Rosenblatt’s initial perceptron rule]()\n",
    "beginnen we met het initialiseren van de gewichten als 0 of willekeurige kleine getallen. Voor deze opdracht moeten er\n",
    "willekeurige getallen gebruikt worden."
   ]
  },
  {
   "cell_type": "code",
   "execution_count": 70,
   "metadata": {},
   "outputs": [
    {
     "name": "stdout",
     "output_type": "stream",
     "text": [
      "<Perceptron {activation: step, bias: -0.5418, weights: [0.2025, 0.9821]}>\n"
     ]
    }
   ],
   "source": [
    "random.seed(1804439)\n",
    "random_weight = lambda: round(random.random() * 2 - 1, 4)  # Willekeurig getal tussen -1 en 1\n",
    "\n",
    "perceptron_AND = Perceptron([random_weight(), random_weight()], random_weight(), step_activation, learning_rate)\n",
    "print(perceptron_AND)"
   ]
  },
  {
   "attachments": {},
   "cell_type": "markdown",
   "metadata": {},
   "source": [
    "Als we deze perceptron nu vergelijken met de truth table:"
   ]
  },
  {
   "cell_type": "code",
   "execution_count": 71,
   "metadata": {},
   "outputs": [
    {
     "name": "stdout",
     "output_type": "stream",
     "text": [
      "Input [0, 1] geeft als output: 1.0\n",
      "Input [1, 0] geeft als output: 0.0\n",
      "Input [1, 1] geeft als output: 1.0\n",
      "Input [0, 0] geeft als output: 0.0\n",
      "MSE: 0.25\n"
     ]
    }
   ],
   "source": [
    "compare_to_truth_table(AND_inputs, perceptron_AND)\n",
    "print(\"MSE:\", perceptron_AND.loss(AND_inputs, AND_expected))"
   ]
  },
  {
   "attachments": {},
   "cell_type": "markdown",
   "metadata": {},
   "source": [
    "Dit is compleet fout dus laten we update een keer uitvoeren."
   ]
  },
  {
   "cell_type": "code",
   "execution_count": 72,
   "metadata": {},
   "outputs": [
    {
     "name": "stdout",
     "output_type": "stream",
     "text": [
      "<Perceptron {activation: step, bias: -0.6417999999999999, weights: [0.2025, 0.8821]}>\n",
      "MSE: 0.25\n"
     ]
    }
   ],
   "source": [
    "print(perceptron_AND.update_multiple(AND_inputs, AND_expected))\n",
    "print(\"MSE:\", perceptron_AND.loss(AND_inputs, AND_expected))"
   ]
  },
  {
   "attachments": {},
   "cell_type": "markdown",
   "metadata": {},
   "source": [
    "Er is wat verandering maar nog niet echt een verbetering. Laten we de `train()` methode gebruiken om de perceptron te\n",
    "trainen totdat de MSE minder dan `0.25` is."
   ]
  },
  {
   "cell_type": "code",
   "execution_count": 73,
   "metadata": {},
   "outputs": [
    {
     "name": "stdout",
     "output_type": "stream",
     "text": [
      "Input [0, 1] geeft als output: 0.0\n",
      "Input [1, 0] geeft als output: 0.0\n",
      "Input [1, 1] geeft als output: 1.0\n",
      "Input [0, 0] geeft als output: 0.0\n",
      "<Perceptron {activation: step, bias: -0.8417999999999999, weights: [0.2025, 0.6821]}>\n"
     ]
    }
   ],
   "source": [
    "perceptron_AND.train(AND_inputs, AND_expected, loss_limit=0.125)\n",
    "compare_to_truth_table(AND_inputs, perceptron_AND);\n",
    "\n",
    "print(perceptron_AND)"
   ]
  },
  {
   "attachments": {},
   "cell_type": "markdown",
   "metadata": {},
   "source": [
    "## XOR-poort"
   ]
  },
  {
   "attachments": {},
   "cell_type": "markdown",
   "metadata": {},
   "source": [
    "Hieronder te waardes voor het trainen van een XOR perceptron."
   ]
  },
  {
   "cell_type": "code",
   "execution_count": 74,
   "metadata": {},
   "outputs": [],
   "source": [
    "XOR_input = AND_inputs\n",
    "XOR_expected = (1, 1, 0, 0)"
   ]
  },
  {
   "attachments": {},
   "cell_type": "markdown",
   "metadata": {},
   "source": [
    "En weer de opnieuw geïnitialiseerde perceptron."
   ]
  },
  {
   "cell_type": "code",
   "execution_count": 75,
   "metadata": {},
   "outputs": [
    {
     "name": "stdout",
     "output_type": "stream",
     "text": [
      "<Perceptron {activation: step, bias: -0.5418, weights: [0.2025, 0.9821]}>\n",
      "Input [0, 1] geeft als output: 1.0\n",
      "Input [1, 0] geeft als output: 0.0\n",
      "Input [1, 1] geeft als output: 1.0\n",
      "Input [0, 0] geeft als output: 0.0\n",
      "MSE: 0.5\n"
     ]
    }
   ],
   "source": [
    "random.seed(1804439)\n",
    "perceptron_XOR = Perceptron([random_weight(), random_weight()], random_weight(), step_activation, 0.1)\n",
    "print(perceptron_XOR)\n",
    "\n",
    "compare_to_truth_table(XOR_input, perceptron_XOR)\n",
    "print(\"MSE:\", perceptron_XOR.loss(XOR_input, XOR_expected))"
   ]
  },
  {
   "attachments": {},
   "cell_type": "markdown",
   "metadata": {},
   "source": [
    "Nu kunnen we deze perceptron trainen met een maximum van `100` iteraties."
   ]
  },
  {
   "cell_type": "code",
   "execution_count": 76,
   "metadata": {},
   "outputs": [
    {
     "name": "stdout",
     "output_type": "stream",
     "text": [
      "<Perceptron {activation: step, bias: -0.041799999999999976, weights: [-0.09750000000000003, -0.017899999999999888]}>\n",
      "Input [0, 1] geeft als output: 0.0\n",
      "Input [1, 0] geeft als output: 0.0\n",
      "Input [1, 1] geeft als output: 0.0\n",
      "Input [0, 0] geeft als output: 0.0\n",
      "MSE: 0.5\n"
     ]
    }
   ],
   "source": [
    "print(perceptron_XOR.train(XOR_input, XOR_expected, max_iterations=100))\n",
    "\n",
    "compare_to_truth_table(XOR_input, perceptron_XOR)\n",
    "print(\"MSE:\", perceptron_XOR.loss(XOR_input, XOR_expected))"
   ]
  },
  {
   "attachments": {},
   "cell_type": "markdown",
   "metadata": {},
   "source": [
    "Zoals je kan zien is de MSE na `100` iteraties nog steeds niet verbeterd. We kunnen dit verklaren d.m.v. grafieken."
   ]
  },
  {
   "cell_type": "code",
   "execution_count": 77,
   "metadata": {},
   "outputs": [
    {
     "data": {
      "image/png": "[encoded data removed]",
      "text/plain": [
       "<Figure size 576x288 with 2 Axes>"
      ]
     },
     "metadata": {
      "needs_background": "light"
     },
     "output_type": "display_data"
    }
   ],
   "source": [
    "fig, ax = plt.subplots(1, 2, figsize=(8, 4))\n",
    "list(x.set(xlabel = \"Input 1\", \n",
    "           ylabel = \"Input 2\", \n",
    "           xticks = [0, 1], \n",
    "           yticks = [0, 1], \n",
    "           xlim = (-0.2, 1.2),\n",
    "           ylim = (-0.2, 1.2)) for x in ax)\n",
    "\n",
    "ax[0].scatter([0, 1, 0, 1], [0, 1, 1, 0], c = (\"red\", \"red\", \"blue\", \"blue\"))\n",
    "ax[0].set(title = \"XOR\")\n",
    "\n",
    "ax[1].scatter([0, 1, 0, 1], [0, 1, 1, 0], c = (\"red\", \"blue\", \"red\", \"red\"))\n",
    "ax[1].set(title = \"AND\");"
   ]
  },
  {
   "attachments": {},
   "cell_type": "markdown",
   "metadata": {},
   "source": [
    "Een perceptron is een `linear classifier`, dat betekent bijvoorbeeld dat er een lijn getrokken wordt en alles aan de ene\n",
    "kant van de lijn bij de ene klasse hoort en alles aan de andere kant bij de andere klasse hoort. Bij de AND grafiek kan\n",
    "je bijvoorbeeld een lijn van (0.5, 1) naar (1, 0.5) trekt dan zijn alle punten die aan moeten staan boven de lijn en\n",
    "alles dat uit moet eronder.\n",
    "\n",
    "Om te laten zien welke lijn de perceptron trekt heb ik een functie gemaakt gebaseerd op \n",
    "[het volgende artikel](https://www.thomascountz.com/2018/04/13/calculate-decision-boundary-of-perceptron). "
   ]
  },
  {
   "cell_type": "code",
   "execution_count": 78,
   "metadata": {},
   "outputs": [],
   "source": [
    "def calculate_y(x: float, perceptron: Perceptron) -> float:\n",
    "    weight_1, weight_2 = perceptron.weights\n",
    "    slope = -(perceptron.bias / weight_2) / (perceptron.bias / weight_1)\n",
    "    return (slope * x) + (-perceptron.bias / weight_2)"
   ]
  },
  {
   "attachments": {},
   "cell_type": "markdown",
   "metadata": {},
   "source": [
    "En deze kunnen we vervolgens tekenen op de vorige grafiek."
   ]
  },
  {
   "cell_type": "code",
   "execution_count": 79,
   "metadata": {},
   "outputs": [
    {
     "data": {
      "image/png": "[encoded data removed]",
      "text/plain": [
       "<Figure size 432x288 with 1 Axes>"
      ]
     },
     "metadata": {
      "needs_background": "light"
     },
     "output_type": "display_data"
    }
   ],
   "source": [
    "fig, ax = plt.subplots()\n",
    "\n",
    "ax.set(xlabel = \"Input 1\", \n",
    "        ylabel = \"Input 2\", \n",
    "        xticks = [0, 1], \n",
    "        yticks = [0, 1], \n",
    "        xlim = (-0.2, 1.2),\n",
    "        ylim = (-0.2, 1.2),\n",
    "        title = \"AND (geclassificeerd)\")\n",
    "ax.scatter([0, 1, 0, 1], [0, 1, 1, 0], c = (\"red\", \"blue\", \"red\", \"red\"))\n",
    "ax.plot(list(range(3)), list(calculate_y(x, perceptron_AND) for x in range(3)));"
   ]
  },
  {
   "attachments": {},
   "cell_type": "markdown",
   "metadata": {},
   "source": [
    "Voor de XOR-grafiek is het niet mogelijk een lijn te tekenen waarbij beide rode punten aan de ene kant zitten en de \n",
    "blauwe aan de andere kant."
   ]
  },
  {
   "attachments": {},
   "cell_type": "markdown",
   "metadata": {},
   "source": [
    "## Iris Dataset"
   ]
  },
  {
   "attachments": {},
   "cell_type": "markdown",
   "metadata": {},
   "source": [
    "Om een perceptron op de iris dataset te trainen moeten we deze eerst ophalen."
   ]
  },
  {
   "cell_type": "code",
   "execution_count": 80,
   "metadata": {},
   "outputs": [
    {
     "data": {
      "text/plain": [
       "(array([[5.1, 3.5, 1.4, 0.2],\n",
       "        [4.9, 3. , 1.4, 0.2],\n",
       "        [4.7, 3.2, 1.3, 0.2],\n",
       "        [4.6, 3.1, 1.5, 0.2],\n",
       "        [5. , 3.6, 1.4, 0.2],\n",
       "        [5.4, 3.9, 1.7, 0.4],\n",
       "        [4.6, 3.4, 1.4, 0.3],\n",
       "        [5. , 3.4, 1.5, 0.2],\n",
       "        [4.4, 2.9, 1.4, 0.2],\n",
       "        [4.9, 3.1, 1.5, 0.1]]),\n",
       " array([0, 0, 0, 0, 0, 0, 0, 0, 0, 0]),\n",
       " array(['setosa', 'versicolor', 'virginica'], dtype='<U10'))"
      ]
     },
     "execution_count": 80,
     "metadata": {},
     "output_type": "execute_result"
    }
   ],
   "source": [
    "iris = load_iris()\n",
    "iris.data[:10], iris.target[:10], iris.target_names"
   ]
  },
  {
   "attachments": {},
   "cell_type": "markdown",
   "metadata": {},
   "source": [
    "Voor deze opdracht hebben we 2 subsets van iris nodig, 1 met setosa en versicolor en 1 met versicolor en virginica. Voor\n",
    "de eerste kunnen we over de dataset heen itereren en alle rijen met een target van 2 verwijderen. We houden dan alleen\n",
    "rijen met 0 of 1 als target wat toevallig precies hetgeen is dat we nodig hebben om een perceptron te trainen."
   ]
  },
  {
   "cell_type": "code",
   "execution_count": 81,
   "metadata": {},
   "outputs": [
    {
     "name": "stdout",
     "output_type": "stream",
     "text": [
      "{0, 1} 100\n"
     ]
    }
   ],
   "source": [
    "# se_ve betekent setosa en versicolor\n",
    "iris_se_ve_data, iris_se_ve_target = zip(*((list(x), y) for x, y in zip(iris.data, iris.target) if y != 2))\n",
    "print(set(iris_se_ve_target), len(iris_se_ve_data))"
   ]
  },
  {
   "attachments": {},
   "cell_type": "markdown",
   "metadata": {},
   "source": [
    "En voor de tweede dataset kunnen we alles met target 0 weghalen, dan blijven alleen 1 en 2 over. Als we hier 1 van \n",
    "aftrekken hebben we een target dat de perceptron kan gebruiken."
   ]
  },
  {
   "cell_type": "code",
   "execution_count": 82,
   "metadata": {},
   "outputs": [
    {
     "name": "stdout",
     "output_type": "stream",
     "text": [
      "{0, 1} 100\n",
      "([7.0, 3.2, 4.7, 1.4], [6.4, 3.2, 4.5, 1.5], [6.9, 3.1, 4.9, 1.5], [5.5, 2.3, 4.0, 1.3], [6.5, 2.8, 4.6, 1.5])\n"
     ]
    }
   ],
   "source": [
    "iris_ve_vi_data, iris_ve_vi_target = zip(*((list(x), y-1) for x, y in zip(iris.data, iris.target) if y != 0))\n",
    "print(set(iris_se_ve_target), len(iris_se_ve_data))\n",
    "print(iris_ve_vi_data[:5])"
   ]
  },
  {
   "attachments": {},
   "cell_type": "markdown",
   "metadata": {},
   "source": [
    "Nu maken we een Perceptron met 4 inputs en willekeurige weights."
   ]
  },
  {
   "cell_type": "code",
   "execution_count": 83,
   "metadata": {},
   "outputs": [
    {
     "name": "stdout",
     "output_type": "stream",
     "text": [
      "<Perceptron {activation: step, bias: 0.5865, weights: [0.2025, 0.9821, -0.5418, 0.1521]}>\n"
     ]
    }
   ],
   "source": [
    "random.seed(1804439)\n",
    "perceptron_iris_se_ve = Perceptron([random_weight() for _ in range(4)],\n",
    "                                   random_weight(), step_activation, 0.1)\n",
    "print(perceptron_iris_se_ve)"
   ]
  },
  {
   "attachments": {},
   "cell_type": "markdown",
   "metadata": {},
   "source": [
    "De MSE voor de huidige staat is:"
   ]
  },
  {
   "cell_type": "code",
   "execution_count": 84,
   "metadata": {},
   "outputs": [
    {
     "name": "stdout",
     "output_type": "stream",
     "text": [
      "0.5\n"
     ]
    }
   ],
   "source": [
    "print(perceptron_iris_se_ve.loss(iris_se_ve_data, iris_se_ve_target))"
   ]
  },
  {
   "attachments": {},
   "cell_type": "markdown",
   "metadata": {},
   "source": [
    "En na het trainen:"
   ]
  },
  {
   "cell_type": "code",
   "execution_count": 85,
   "metadata": {},
   "outputs": [
    {
     "name": "stdout",
     "output_type": "stream",
     "text": [
      "<Perceptron {activation: step, bias: 0.2865000000000001, weights: [-0.3174999999999999, -0.1379000000000002, 0.6982000000000003, 0.6920999999999999]}>\n",
      "MSE: 0.0\n"
     ]
    }
   ],
   "source": [
    "print(perceptron_iris_se_ve.train(iris_se_ve_data, iris_se_ve_target))\n",
    "print(\"MSE:\", perceptron_iris_se_ve.loss(iris_se_ve_data, iris_se_ve_target))"
   ]
  },
  {
   "attachments": {},
   "cell_type": "markdown",
   "metadata": {},
   "source": [
    "Een MSE van `0,0` is uitzonderlijk goed. Er zit waarschijnlijk een duidelijke lineaire grens tussen de twee klasse."
   ]
  },
  {
   "attachments": {},
   "cell_type": "markdown",
   "metadata": {},
   "source": [
    "We gaan verder met het aanmaken van een tweede perceptron."
   ]
  },
  {
   "cell_type": "code",
   "execution_count": 86,
   "metadata": {},
   "outputs": [
    {
     "name": "stdout",
     "output_type": "stream",
     "text": [
      "<Perceptron {activation: step, bias: 0.5865, weights: [0.2025, 0.9821, -0.5418, 0.1521]}>\n",
      "MSE: 0.5\n"
     ]
    }
   ],
   "source": [
    "random.seed(1804439)\n",
    "perceptron_iris_ve_vi = Perceptron([random_weight() for _ in range(4)],\n",
    "                             random_weight(), step_activation, 0.1)\n",
    "print(perceptron_iris_ve_vi)\n",
    "print(\"MSE:\", perceptron_iris_ve_vi.loss(iris_ve_vi_data, iris_ve_vi_target))"
   ]
  },
  {
   "cell_type": "code",
   "execution_count": 87,
   "metadata": {},
   "outputs": [
    {
     "name": "stdout",
     "output_type": "stream",
     "text": [
      "<Perceptron {activation: step, bias: 0.48650000000000004, weights: [-4.337500000000007, -0.6279000000000012, 4.538199999999996, 4.3721000000000005]}>\n",
      "0.08\n"
     ]
    }
   ],
   "source": [
    "print(perceptron_iris_ve_vi.train(iris_ve_vi_data, iris_ve_vi_target))\n",
    "print(perceptron_iris_ve_vi.loss(iris_ve_vi_data, iris_ve_vi_target))"
   ]
  },
  {
   "attachments": {},
   "cell_type": "markdown",
   "metadata": {},
   "source": [
    "De MSE is iets hoger. "
   ]
  },
  {
   "attachments": {},
   "cell_type": "markdown",
   "metadata": {},
   "source": [
    "We kunnen voor de zekerheid een aantal waardes uit de dataset nemen en kijken of deze goed geclassificeerd worden."
   ]
  },
  {
   "cell_type": "code",
   "execution_count": 88,
   "metadata": {},
   "outputs": [
    {
     "name": "stdout",
     "output_type": "stream",
     "text": [
      "[(array([5.1, 3.5, 1.4, 0.2]), 0), (array([6.8, 2.8, 4.8, 1.4]), 1), (array([6.7, 3.3, 5.7, 2.1]), 2)]\n"
     ]
    }
   ],
   "source": [
    "flowers = [\n",
    "    (iris.data[0], iris.target[0]),\n",
    "    (iris.data[76], iris.target[76]),\n",
    "    (iris.data[124], iris.target[124]),\n",
    "]\n",
    "\n",
    "print(flowers)\n",
    "\n",
    "assert perceptron_iris_se_ve.activate(flowers[0][0]) == flowers[0][1]\n",
    "assert perceptron_iris_se_ve.activate(flowers[1][0]) == flowers[1][1]\n",
    "\n",
    "assert perceptron_iris_ve_vi.activate(flowers[1][0]) + 1 == flowers[1][1]\n",
    "assert perceptron_iris_ve_vi.activate(flowers[2][0]) + 1 == flowers[2][1]"
   ]
  }
 ],
 "metadata": {
  "kernelspec": {
   "display_name": "base",
   "language": "python",
   "name": "python3"
  },
  "language_info": {
   "codemirror_mode": {
    "name": "ipython",
    "version": 3
   },
   "file_extension": ".py",
   "mimetype": "text/x-python",
   "name": "python",
   "nbconvert_exporter": "python",
   "pygments_lexer": "ipython3",
   "version": "3.9.12"
  },
  "orig_nbformat": 4,
  "vscode": {
   "interpreter": {
    "hash": "20ed2bc01ba129e3a100a999c98880460598a095cd5631cd814da0fe121f11c1"
   }
  }
 },
 "nbformat": 4,
 "nbformat_minor": 2
}
