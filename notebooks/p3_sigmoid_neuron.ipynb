{
 "cells": [
  {
   "attachments": {},
   "cell_type": "markdown",
   "metadata": {},
   "source": [
    "# P3: Sigmoid Neuron"
   ]
  },
  {
   "cell_type": "code",
   "execution_count": 101,
   "metadata": {},
   "outputs": [],
   "source": [
    "from typing import Iterable\n",
    "\n",
    "from p3_sigmoid_neuron import Neuron, NeuronLayer, NeuronNetwork, sigmoid_activation"
   ]
  },
  {
   "attachments": {},
   "cell_type": "markdown",
   "metadata": {},
   "source": [
    "Een `Neuron` is in essentie hetzelfde als een `Perceptron` en in mijn geval __zijn__ ze ook hetzelfde. De `Perceptron`\n",
    "klasse hoeft niet aangepast te worden om er een `Neuron` van te maken, daarom definieren we `Neuron` om als het ware als\n",
    "\"alias\" voor `Perceptron` te gebruiken."
   ]
  },
  {
   "attachments": {},
   "cell_type": "markdown",
   "metadata": {},
   "source": [
    "## De poorten"
   ]
  },
  {
   "attachments": {},
   "cell_type": "markdown",
   "metadata": {},
   "source": [
    "Hieronder de verwachtte waardes, inputs en bijbehorende neurons voor de volgende poorten: INVERT, AND, en OR."
   ]
  },
  {
   "cell_type": "code",
   "execution_count": 102,
   "metadata": {},
   "outputs": [
    {
     "name": "stdout",
     "output_type": "stream",
     "text": [
      "<Neuron {activation: sigmoid, bias: 0, weights: [-1]}>\n",
      "<Neuron {activation: sigmoid, bias: -2, weights: [1, 1]}>\n",
      "<Neuron {activation: sigmoid, bias: -1, weights: [1, 1]}>\n"
     ]
    }
   ],
   "source": [
    "INVERT_input = [[1], [0]]\n",
    "INVERT_target = [0, 1]\n",
    "INVERT_neuron = Neuron([-1], 0, sigmoid_activation)\n",
    "\n",
    "AND_input = [[0, 0], [0, 1], [1, 0], [1, 1]]\n",
    "AND_target = [0, 0, 0, 1]\n",
    "AND_neuron = Neuron([1, 1], -2, sigmoid_activation)\n",
    "\n",
    "OR_input = AND_input\n",
    "OR_target = [0, 1, 1, 1]\n",
    "OR_neuron = Neuron([1, 1], -1, sigmoid_activation)\n",
    "\n",
    "print(INVERT_neuron, AND_neuron, OR_neuron, sep=\"\\n\")"
   ]
  },
  {
   "attachments": {},
   "cell_type": "markdown",
   "metadata": {},
   "source": [
    "We kunnen de functie uit `p2_perceptron_learning_rule.ipynb` nemen voor het controleren van de Neurons."
   ]
  },
  {
   "cell_type": "code",
   "execution_count": 103,
   "metadata": {},
   "outputs": [],
   "source": [
    "def compare_to_truth_table(inputs: Iterable[Iterable[float]], obj: Neuron) -> None:\n",
    "    outputs = []\n",
    "\n",
    "    for row in inputs:\n",
    "        output = obj.activate(row)\n",
    "        print(f\"Input {row} geeft als output: {output:.4f}\")\n",
    "        outputs.append(output)\n",
    "\n",
    "    return outputs"
   ]
  },
  {
   "attachments": {},
   "cell_type": "markdown",
   "metadata": {},
   "source": [
    "Als bij de step-activatie functie de weighted sum 0 of hoger is dan zal de functie 1 meegeven. In hetzelfde geval zou de\n",
    "sigmoid 0,5 of hoger teruggeven. En als de weighted sum lager is dan 0 zal step 0 zijn en sigmoid onder 0,5. Dit\n",
    "betekent dat de instellingen voor de step activatie zou moeten werken voor de sigmoid activatie, alleen zal de zekerheid\n",
    "niet ontzettend hoog zijn."
   ]
  },
  {
   "cell_type": "code",
   "execution_count": 104,
   "metadata": {},
   "outputs": [
    {
     "name": "stdout",
     "output_type": "stream",
     "text": [
      "Input [0, 0] geeft als output: 0.1192\n",
      "Input [0, 1] geeft als output: 0.2689\n",
      "Input [1, 0] geeft als output: 0.2689\n",
      "Input [1, 1] geeft als output: 0.5000\n"
     ]
    }
   ],
   "source": [
    "_ = compare_to_truth_table(AND_input, AND_neuron)"
   ]
  },
  {
   "cell_type": "code",
   "execution_count": 105,
   "metadata": {},
   "outputs": [
    {
     "name": "stdout",
     "output_type": "stream",
     "text": [
      "Input [0, 0] geeft als output: 0.2689\n",
      "Input [0, 1] geeft als output: 0.5000\n",
      "Input [1, 0] geeft als output: 0.5000\n",
      "Input [1, 1] geeft als output: 0.7311\n"
     ]
    }
   ],
   "source": [
    "_ = compare_to_truth_table(OR_input, OR_neuron)"
   ]
  },
  {
   "cell_type": "code",
   "execution_count": 106,
   "metadata": {},
   "outputs": [
    {
     "name": "stdout",
     "output_type": "stream",
     "text": [
      "Input [1] geeft als output: 0.2689\n",
      "Input [0] geeft als output: 0.5000\n"
     ]
    }
   ],
   "source": [
    "_ = compare_to_truth_table(INVERT_input, INVERT_neuron)"
   ]
  },
  {
   "attachments": {},
   "cell_type": "markdown",
   "metadata": {},
   "source": [
    "En zoals je kan zien klopt dit ook. Echter zijn veel van de activaties maar rond 0,5 en dit zou veel hoger kunnen maar\n",
    "het werkt dus wel net aan."
   ]
  },
  {
   "attachments": {},
   "cell_type": "markdown",
   "metadata": {},
   "source": [
    "### NOR-poort"
   ]
  },
  {
   "cell_type": "code",
   "execution_count": 107,
   "metadata": {},
   "outputs": [
    {
     "name": "stdout",
     "output_type": "stream",
     "text": [
      "<Neuron {activation: sigmoid, bias: 3, weights: [-4, -4, -4]}>\n"
     ]
    }
   ],
   "source": [
    "NOR_input = [\n",
    "    [0, 0, 0], [0, 0, 1], [0, 1, 0],\n",
    "    [0, 1, 1], [1, 0, 0], [1, 0, 1],\n",
    "    [1, 1, 1],\n",
    "]\n",
    "NOR_target = [\n",
    "    1, 0, 0, 0, 0, 0, 0,\n",
    "]\n",
    "NOR_neuron = Neuron([-4, -4, -4], 3, sigmoid_activation)\n",
    "print(NOR_neuron)"
   ]
  },
  {
   "cell_type": "code",
   "execution_count": 108,
   "metadata": {},
   "outputs": [
    {
     "name": "stdout",
     "output_type": "stream",
     "text": [
      "Input [0, 0, 0] geeft als output: 0.9526\n",
      "Input [0, 0, 1] geeft als output: 0.2689\n",
      "Input [0, 1, 0] geeft als output: 0.2689\n",
      "Input [0, 1, 1] geeft als output: 0.0067\n",
      "Input [1, 0, 0] geeft als output: 0.2689\n",
      "Input [1, 0, 1] geeft als output: 0.0067\n",
      "Input [1, 1, 1] geeft als output: 0.0001\n"
     ]
    }
   ],
   "source": [
    "compare_to_truth_table(NOR_input, NOR_neuron);"
   ]
  },
  {
   "attachments": {},
   "cell_type": "markdown",
   "metadata": {},
   "source": [
    "## NeuronNetwork"
   ]
  },
  {
   "cell_type": "code",
   "execution_count": 109,
   "metadata": {},
   "outputs": [
    {
     "name": "stdout",
     "output_type": "stream",
     "text": [
      "<Neuron {activation: sigmoid, bias: 2, weights: [-1.1, -1.1]}>\n",
      "Input [0, 0] geeft als output: 0.8808\n",
      "Input [0, 1] geeft als output: 0.7109\n",
      "Input [1, 0] geeft als output: 0.7109\n",
      "Input [1, 1] geeft als output: 0.4502\n"
     ]
    }
   ],
   "source": [
    "NAND_input = AND_input\n",
    "NAND_target = [1, 1, 1, 0]\n",
    "NAND_neuron = Neuron([-1.1, -1.1], 2, sigmoid_activation)\n",
    "print(NAND_neuron)\n",
    "compare_to_truth_table(NAND_input, NAND_neuron);"
   ]
  },
  {
   "cell_type": "code",
   "execution_count": 132,
   "metadata": {},
   "outputs": [
    {
     "name": "stdout",
     "output_type": "stream",
     "text": [
      "<NeuronNetwork {\n",
      "<NeuronLayer {\n",
      "\t0: <Neuron {activation: sigmoid, bias: -5.7, weights: [4.1, 4.1]}>,\n",
      "\t1: <Neuron {activation: sigmoid, bias: 7, weights: [-4.8, -4.8]}>,\n",
      "\t2: <Neuron {activation: sigmoid, bias: -1.5, weights: [4.1, 4.1]}>,\n",
      "}>,\n",
      "<NeuronLayer {\n",
      "\t0: <Neuron {activation: sigmoid, bias: -2, weights: [5, 0, 0]}>,\n",
      "\t1: <Neuron {activation: sigmoid, bias: -2, weights: [0, 5, 5]}>,\n",
      "}>,\n",
      "}>\n"
     ]
    }
   ],
   "source": [
    "half_adder_input = AND_input\n",
    "half_adder_target = [[0, 0], [0, 1], [0, 1], [1, 0]]\n",
    "half_adder_network = NeuronNetwork([\n",
    "    NeuronLayer([\n",
    "        Neuron([4.1, 4.1], -5.7, sigmoid_activation),\n",
    "        Neuron([-4.8, -4.8], 7, sigmoid_activation),\n",
    "        Neuron([4.1, 4.1], -1.5, sigmoid_activation),\n",
    "    ]),\n",
    "    NeuronLayer([\n",
    "        Neuron([5, 0, 0], -2, sigmoid_activation),\n",
    "        Neuron([0 , 5, 5], -2, sigmoid_activation)\n",
    "    ]),\n",
    "])\n",
    "print(half_adder_network)"
   ]
  },
  {
   "cell_type": "code",
   "execution_count": 130,
   "metadata": {},
   "outputs": [
    {
     "name": "stdout",
     "output_type": "stream",
     "text": [
      "Input [0.0033, 0.9991, 0.1824] geeft als output: [0.1209, 0.9803]\n",
      "Input [0.168, 0.9002, 0.9309] geeft als output: [0.2387, 0.9992]\n",
      "Input [0.168, 0.9002, 0.9309] geeft als output: [0.2387, 0.9992]\n",
      "Input [0.9241, 0.0691, 0.9988] geeft als output: [0.9322, 0.9658]\n"
     ]
    }
   ],
   "source": [
    "from functools import partial\n",
    "\n",
    "first = NeuronLayer([\n",
    "    Neuron([4.1, 4.1], -5.7, sigmoid_activation),\n",
    "    Neuron([-4.8, -4.8], 7, sigmoid_activation),\n",
    "    Neuron([4.1, 4.1], -1.5, sigmoid_activation),\n",
    "])\n",
    "second = NeuronLayer([\n",
    "    Neuron([5, 0, 0], -2, sigmoid_activation),\n",
    "    Neuron([0 , 5, 5], -2, sigmoid_activation)\n",
    "])\n",
    "\n",
    "ins = []\n",
    "for row in half_adder_input:\n",
    "    output = first.activate(row)\n",
    "    ins.append(list(map(lambda x: round(x, 4), output)))\n",
    "\n",
    "for row in ins:\n",
    "    output = second.activate(row)\n",
    "    print(f\"Input {row} geeft als output: [{output[0]:.4f}, {output[1]:.4f}]\")"
   ]
  },
  {
   "cell_type": "code",
   "execution_count": 133,
   "metadata": {},
   "outputs": [
    {
     "name": "stdout",
     "output_type": "stream",
     "text": [
      "Input [0, 0] geeft als output: [0.1210, 0.9803]\n",
      "Input [0, 1] geeft als output: [0.2387, 0.9992]\n",
      "Input [1, 0] geeft als output: [0.2387, 0.9992]\n",
      "Input [1, 1] geeft als output: [0.9322, 0.9658]\n"
     ]
    }
   ],
   "source": [
    "for row in half_adder_input:\n",
    "    output = half_adder_network.feed_forward(row)\n",
    "    print(f\"Input {row} geeft als output: [{output[0]:.4f}, {output[1]:.4f}]\")"
   ]
  }
 ],
 "metadata": {
  "kernelspec": {
   "display_name": "base",
   "language": "python",
   "name": "python3"
  },
  "language_info": {
   "codemirror_mode": {
    "name": "ipython",
    "version": 3
   },
   "file_extension": ".py",
   "mimetype": "text/x-python",
   "name": "python",
   "nbconvert_exporter": "python",
   "pygments_lexer": "ipython3",
   "version": "3.9.12"
  },
  "orig_nbformat": 4
 },
 "nbformat": 4,
 "nbformat_minor": 2
}
